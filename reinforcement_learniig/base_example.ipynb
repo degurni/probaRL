{
 "cells": [
  {
   "cell_type": "code",
   "execution_count": 2,
   "metadata": {},
   "outputs": [],
   "source": [
    "import sys\n",
    "sys.path.append('/Users/deg/PycharmProjects/probaRL')  # C:\\Users\\deg\\PycharmProjects\\probaRL\\dataset.py"
   ]
  },
  {
   "cell_type": "code",
   "execution_count": 5,
   "metadata": {},
   "outputs": [
    {
     "ename": "ModuleNotFoundError",
     "evalue": "No module named 'gym'",
     "output_type": "error",
     "traceback": [
      "\u001b[1;31m---------------------------------------------------------------------------\u001b[0m",
      "\u001b[1;31mModuleNotFoundError\u001b[0m                       Traceback (most recent call last)",
      "\u001b[1;32mc:\\Users\\deg\\PycharmProjects\\probaRL\\reinforcement_learniig\\base_example.ipynb Ячейка 2\u001b[0m line \u001b[0;36m2\n\u001b[0;32m      <a href='vscode-notebook-cell:/c%3A/Users/deg/PycharmProjects/probaRL/reinforcement_learniig/base_example.ipynb#W1sZmlsZQ%3D%3D?line=0'>1</a>\u001b[0m \u001b[39mfrom\u001b[39;00m \u001b[39mdataset\u001b[39;00m \u001b[39mimport\u001b[39;00m Dataset\n\u001b[1;32m----> <a href='vscode-notebook-cell:/c%3A/Users/deg/PycharmProjects/probaRL/reinforcement_learniig/base_example.ipynb#W1sZmlsZQ%3D%3D?line=1'>2</a>\u001b[0m \u001b[39mimport\u001b[39;00m \u001b[39mgym\u001b[39;00m\n\u001b[0;32m      <a href='vscode-notebook-cell:/c%3A/Users/deg/PycharmProjects/probaRL/reinforcement_learniig/base_example.ipynb#W1sZmlsZQ%3D%3D?line=2'>3</a>\u001b[0m \u001b[39mimport\u001b[39;00m \u001b[39mgym_anytrading\u001b[39;00m\n\u001b[0;32m      <a href='vscode-notebook-cell:/c%3A/Users/deg/PycharmProjects/probaRL/reinforcement_learniig/base_example.ipynb#W1sZmlsZQ%3D%3D?line=3'>4</a>\u001b[0m \u001b[39m# from stable_baselines3.ppo.policies import MlpPolicy\u001b[39;00m\n\u001b[0;32m      <a href='vscode-notebook-cell:/c%3A/Users/deg/PycharmProjects/probaRL/reinforcement_learniig/base_example.ipynb#W1sZmlsZQ%3D%3D?line=4'>5</a>\u001b[0m \u001b[39m# from stable_baselines3 import A2C, PPO, DQN # select model\u001b[39;00m\n\u001b[0;32m      <a href='vscode-notebook-cell:/c%3A/Users/deg/PycharmProjects/probaRL/reinforcement_learniig/base_example.ipynb#W1sZmlsZQ%3D%3D?line=5'>6</a>\u001b[0m \u001b[39m# from stable_baselines3.common.evaluation import evaluate_policy\u001b[39;00m\n\u001b[1;32m   (...)\u001b[0m\n\u001b[0;32m     <a href='vscode-notebook-cell:/c%3A/Users/deg/PycharmProjects/probaRL/reinforcement_learniig/base_example.ipynb#W1sZmlsZQ%3D%3D?line=9'>10</a>\u001b[0m \u001b[39m# from matplotlib import pyplot as plt\u001b[39;00m\n\u001b[0;32m     <a href='vscode-notebook-cell:/c%3A/Users/deg/PycharmProjects/probaRL/reinforcement_learniig/base_example.ipynb#W1sZmlsZQ%3D%3D?line=10'>11</a>\u001b[0m \u001b[39m# import quantstats as qs\u001b[39;00m\n",
      "\u001b[1;31mModuleNotFoundError\u001b[0m: No module named 'gym'"
     ]
    }
   ],
   "source": [
    "\n",
    "from dataset import Dataset\n",
    "import gym\n",
    "import gym_anytrading\n",
    "# from stable_baselines3.ppo.policies import MlpPolicy\n",
    "# from stable_baselines3 import A2C, PPO, DQN # select model\n",
    "# from stable_baselines3.common.evaluation import evaluate_policy\n",
    "# from stable_baselines3.common.cmd_util import make_vec_env\n",
    "# import numpy as np\n",
    "# import pandas as pd\n",
    "# from matplotlib import pyplot as plt\n",
    "# import quantstats as qs"
   ]
  }
 ],
 "metadata": {
  "kernelspec": {
   "display_name": "Python 3",
   "language": "python",
   "name": "python3"
  },
  "language_info": {
   "codemirror_mode": {
    "name": "ipython",
    "version": 3
   },
   "file_extension": ".py",
   "mimetype": "text/x-python",
   "name": "python",
   "nbconvert_exporter": "python",
   "pygments_lexer": "ipython3",
   "version": "3.10.8"
  }
 },
 "nbformat": 4,
 "nbformat_minor": 2
}
