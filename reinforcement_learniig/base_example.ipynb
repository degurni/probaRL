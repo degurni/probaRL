{
 "cells": [
  {
   "cell_type": "code",
   "execution_count": 2,
   "metadata": {},
   "outputs": [],
   "source": [
    "import sys\n",
    "sys.path.append('/Users/deg/PycharmProjects/probaRL')  # C:\\Users\\deg\\PycharmProjects\\probaRL\\dataset.py"
   ]
  },
  {
   "cell_type": "code",
   "execution_count": 14,
   "metadata": {},
   "outputs": [],
   "source": [
    "\n",
    "from dataset import Dataset\n",
    "import gymnasium as gym                                             # pip install gymnasium\n",
    "import gym_anytrading                                               # pip install gym-anytrading\n",
    "from stable_baselines3.ppo.policies import MlpPolicy                # pip install stable-baselines3\n",
    "from stable_baselines3 import A2C, PPO, DQN # select model\n",
    "from stable_baselines3.common.evaluation import evaluate_policy\n",
    "# from stable_baselines3.common.cmd_util import make_vec_env\n",
    "from stable_baselines3.common.env_util import make_vec_env\n",
    "import numpy as np\n",
    "import pandas as pd\n",
    "from matplotlib import pyplot as plt\n",
    "import quantstats as qs                                             # pip install QuantStats"
   ]
  }
 ],
 "metadata": {
  "kernelspec": {
   "display_name": "Python 3",
   "language": "python",
   "name": "python3"
  },
  "language_info": {
   "codemirror_mode": {
    "name": "ipython",
    "version": 3
   },
   "file_extension": ".py",
   "mimetype": "text/x-python",
   "name": "python",
   "nbconvert_exporter": "python",
   "pygments_lexer": "ipython3",
   "version": "3.10.8"
  }
 },
 "nbformat": 4,
 "nbformat_minor": 2
}
